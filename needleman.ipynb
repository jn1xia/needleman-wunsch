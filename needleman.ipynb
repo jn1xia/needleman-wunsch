{
  "nbformat": 4,
  "nbformat_minor": 0,
  "metadata": {
    "colab": {
      "name": "needleman.ipynb",
      "provenance": []
    },
    "kernelspec": {
      "name": "python3",
      "display_name": "Python 3"
    }
  },
  "cells": [
    {
      "cell_type": "code",
      "metadata": {
        "id": "DJGt2BUMs3Bm"
      },
      "source": [
        "seq1 = \"NALMSQA\"\n",
        "seq2 = \"MNALQM\"\n",
        "score_match = 1\n",
        "score_mismatch = -1\n",
        "score_gap = -2\n",
        "\n",
        "seq1_length = len(seq1)\n",
        "seq2_length = len(seq2)\n",
        "matrix_forward = {}\n",
        "matrix_back = {}"
      ],
      "execution_count": 11,
      "outputs": []
    },
    {
      "cell_type": "code",
      "metadata": {
        "id": "krD3rGfPva1X"
      },
      "source": [
        "def max_dir(dN, dW, dNW):\n",
        "  direction= set([])\n",
        "  if dN == max(dN, dW, dNW):\n",
        "    direction.add('N')\n",
        "  if dW == max(dN, dW, dNW):\n",
        "    direction.add('W')\n",
        "  if dNW == max(dN, dW, dNW):\n",
        "    direction.add('NW')\n",
        "  return (max(dN, dW, dNW), direction)"
      ],
      "execution_count": 12,
      "outputs": []
    },
    {
      "cell_type": "code",
      "metadata": {
        "id": "cPapMb2nwNQv"
      },
      "source": [
        "def needle(seq1,seq2):\n",
        "  \n",
        "  matrix_forward[0,0] = 0 \n",
        "  matrix_back[0,0] = set([]) \n",
        "  \n",
        "\n",
        "  for i in range(1,seq1_length+1):\n",
        "    matrix_forward[i,0] = i*score_gap\n",
        "    matrix_back[i,0] = {\"N\"}\n",
        "    \n",
        "\n",
        "  for j in range(1,seq2_length+1):\n",
        "    matrix_forward[0,j] = j*score_gap\n",
        "    matrix_back[0,j] = {\"W\"}\n",
        "    \n",
        " \n",
        "  for i in range(1,seq1_length+1):\n",
        "    for j in range(1,seq2_length+1):\n",
        "      if seq1[i-1] == seq2[j-1]: \n",
        "        s = score_match\n",
        "      else:        \n",
        "        s = score_mismatch\n",
        "      (matrix_forward[i,j], matrix_back[i,j]) = max_dir(matrix_forward[i-1,j  ]+score_gap, \n",
        "                                  matrix_forward[i  ,j-1]+score_gap, \n",
        "                                  matrix_forward[i-1,j-1]+s)\n",
        "      \n",
        "  return matrix_forward[seq1_length,seq2_length]"
      ],
      "execution_count": 13,
      "outputs": []
    },
    {
      "cell_type": "code",
      "metadata": {
        "id": "B76Z2f2pwYvd"
      },
      "source": [
        "def align(seq1,seq2, i,j, line1, line2):\n",
        "  if \"N\" in matrix_back[i,j]:\n",
        "    align(seq1,seq2,i-1,j,   seq1[i-1]+line1,    \"-\"+line2)\n",
        "  if \"W\" in matrix_back[i,j]:\n",
        "    align(seq1,seq2,i  ,j-1,    \"-\"+line1, seq2[j-1]+line2)\n",
        "  if \"NW\" in matrix_back[i,j]:\n",
        "    align(seq1,seq2,i-1,j-1, seq1[i-1]+line1, seq2[j-1]+line2)\n",
        "  if matrix_back[i,j]==set([]): # empty set. we have reached the top left corner of db\n",
        "    print()\n",
        "    print(line1)       # and have collected the full alignment\n",
        "    print(line2)   "
      ],
      "execution_count": 14,
      "outputs": []
    },
    {
      "cell_type": "code",
      "metadata": {
        "id": "QSVLHOc-wcZv",
        "colab": {
          "base_uri": "https://localhost:8080/"
        },
        "outputId": "0cc7da7a-79f2-493c-eb07-7660b3c62a1c"
      },
      "source": [
        "print(\"Dynamic programming matrices for Needleman-Wunsch algorithm.\\n\")\n",
        "\n",
        "print(\"Score=%d\"%(needle(seq1,seq2)))\n",
        "\n",
        "print(\"\\n\\nAll alignments (match score=%d, mismatch score=%d, gap score=%d):\"%(score_match,score_mismatch,score_gap))\n",
        "align(seq1,seq2,len(seq1),len(seq2), \"\", \"\") \n",
        "  \n"
      ],
      "execution_count": 15,
      "outputs": [
        {
          "output_type": "stream",
          "name": "stdout",
          "text": [
            "Dynamic programming matrices for Needleman-Wunsch algorithm.\n\nScore=-3\n\n\nAll alignments (match score=1, mismatch score=-1, gap score=-2):\n\n-NALMSQA\nMNAL--QM\n"
          ]
        }
      ]
    }
  ]
}